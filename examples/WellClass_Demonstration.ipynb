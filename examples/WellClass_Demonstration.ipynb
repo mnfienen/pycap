{
 "cells": [
  {
   "cell_type": "markdown",
   "id": "90465e37-a1ad-4a68-9d16-c00d6594cee4",
   "metadata": {},
   "source": [
    "# Demonstration of WellResponse Class\n",
    "\n",
    "Notebook to demonstrate using the Well Class to \n",
    "estimate drawdown or stream depletion using the \n",
    "solutions available in the python module."
   ]
  },
  {
   "cell_type": "code",
   "execution_count": 1,
   "id": "95dbea60-dd79-408f-bb66-6bb84386187c",
   "metadata": {
    "execution": {
     "iopub.execute_input": "2025-05-15T21:09:31.342394Z",
     "iopub.status.busy": "2025-05-15T21:09:31.342223Z",
     "iopub.status.idle": "2025-05-15T21:09:31.865517Z",
     "shell.execute_reply": "2025-05-15T21:09:31.865051Z"
    }
   },
   "outputs": [],
   "source": [
    "import sys\n",
    "sys.path.insert(1, '../../')\n",
    "import pycap\n",
    "import matplotlib.pyplot as plt\n",
    "import numpy as np\n",
    "import pandas as pd"
   ]
  },
  {
   "cell_type": "markdown",
   "id": "a1ec807f-632c-49ff-a703-da6b757f05d5",
   "metadata": {},
   "source": [
    "# Example Depletion\n",
    "The Well class will estimate depletions for streams.  The stream distances and\n",
    "streambed conductances, if needed, are passed through dictionaries keyed by \n",
    "a stream name or ID.  In this notebook a table of values will be made manually from \n",
    "Table 2 from Reeves, H.W., Hamilton, D.A., Seelbach, P.W., and Asher, A.J., 2009, Ground-water-withdrawal component of the Michigan water-withdrawal screening tool: U.S. Geological Survey Scientific Investigations Report 2009–5003, 36 p.\n",
    "[https://pubs.usgs.gov/sir/2009/5003/]"
   ]
  },
  {
   "cell_type": "code",
   "execution_count": 2,
   "id": "4d858624-c165-413d-bcc4-3e74f5b6362b",
   "metadata": {
    "execution": {
     "iopub.execute_input": "2025-05-15T21:09:31.868304Z",
     "iopub.status.busy": "2025-05-15T21:09:31.867846Z",
     "iopub.status.idle": "2025-05-15T21:09:31.871910Z",
     "shell.execute_reply": "2025-05-15T21:09:31.871507Z"
    }
   },
   "outputs": [],
   "source": [
    "stream_table = pd.DataFrame(({'id': 8, 'distance': 14802},\n",
    "                            {'id': 9, 'distance': 12609.2},\n",
    "                            {'id': 11, 'distance': 15750.5},\n",
    "                            {'id': 27, 'distance': 22567.6},\n",
    "                            {'id': 9741, 'distance': 27565.2},\n",
    "                            {'id': 10532, 'distance': 33059.5},\n",
    "                            {'id': 11967, 'distance': 14846.3},\n",
    "                            {'id': 12515, 'distance': 17042.55},\n",
    "                            {'id': 12573, 'distance': 11959.5},\n",
    "                            {'id': 12941, 'distance': 19070.8},\n",
    "                            {'id': 13925, 'distance': 10028.9}))\n",
    "\n"
   ]
  },
  {
   "cell_type": "code",
   "execution_count": 3,
   "id": "449df4b2-def0-4e06-8b37-db85108d0a75",
   "metadata": {
    "execution": {
     "iopub.execute_input": "2025-05-15T21:09:31.873661Z",
     "iopub.status.busy": "2025-05-15T21:09:31.873488Z",
     "iopub.status.idle": "2025-05-15T21:09:31.882827Z",
     "shell.execute_reply": "2025-05-15T21:09:31.882454Z"
    }
   },
   "outputs": [
    {
     "data": {
      "text/html": [
       "<div>\n",
       "<style scoped>\n",
       "    .dataframe tbody tr th:only-of-type {\n",
       "        vertical-align: middle;\n",
       "    }\n",
       "\n",
       "    .dataframe tbody tr th {\n",
       "        vertical-align: top;\n",
       "    }\n",
       "\n",
       "    .dataframe thead th {\n",
       "        text-align: right;\n",
       "    }\n",
       "</style>\n",
       "<table border=\"1\" class=\"dataframe\">\n",
       "  <thead>\n",
       "    <tr style=\"text-align: right;\">\n",
       "      <th></th>\n",
       "      <th>id</th>\n",
       "      <th>distance</th>\n",
       "    </tr>\n",
       "  </thead>\n",
       "  <tbody>\n",
       "    <tr>\n",
       "      <th>0</th>\n",
       "      <td>8</td>\n",
       "      <td>14802.0</td>\n",
       "    </tr>\n",
       "    <tr>\n",
       "      <th>1</th>\n",
       "      <td>9</td>\n",
       "      <td>12609.2</td>\n",
       "    </tr>\n",
       "    <tr>\n",
       "      <th>2</th>\n",
       "      <td>11</td>\n",
       "      <td>15750.5</td>\n",
       "    </tr>\n",
       "    <tr>\n",
       "      <th>3</th>\n",
       "      <td>27</td>\n",
       "      <td>22567.6</td>\n",
       "    </tr>\n",
       "    <tr>\n",
       "      <th>4</th>\n",
       "      <td>9741</td>\n",
       "      <td>27565.2</td>\n",
       "    </tr>\n",
       "  </tbody>\n",
       "</table>\n",
       "</div>"
      ],
      "text/plain": [
       "     id  distance\n",
       "0     8   14802.0\n",
       "1     9   12609.2\n",
       "2    11   15750.5\n",
       "3    27   22567.6\n",
       "4  9741   27565.2"
      ]
     },
     "execution_count": 3,
     "metadata": {},
     "output_type": "execute_result"
    }
   ],
   "source": [
    "stream_table.head()"
   ]
  },
  {
   "cell_type": "markdown",
   "id": "75c27baa-391a-4ee3-95c6-0ab52c1f06e4",
   "metadata": {},
   "source": [
    "# Compute apportionment\n",
    "\n",
    "The Michigan screening tool uses inverse distance weighting apportionment.  Other\n",
    "apportionment approaches that may be used as a simple way to extend the analytical\n",
    "solution are discussed by Zipper and others (2019).  [https://agupubs.onlinelibrary.wiley.com/doi/10.1029/2018WR024403]"
   ]
  },
  {
   "cell_type": "code",
   "execution_count": 4,
   "id": "cd49a471-83e2-403a-9695-5b315eedbcd2",
   "metadata": {
    "execution": {
     "iopub.execute_input": "2025-05-15T21:09:31.884729Z",
     "iopub.status.busy": "2025-05-15T21:09:31.884554Z",
     "iopub.status.idle": "2025-05-15T21:09:31.887931Z",
     "shell.execute_reply": "2025-05-15T21:09:31.887433Z"
    }
   },
   "outputs": [],
   "source": [
    "invers =np.array([1/x for x in stream_table['distance']])\n",
    "stream_table['apportionment'] = (1./stream_table['distance'])/np.sum(invers)"
   ]
  },
  {
   "cell_type": "code",
   "execution_count": 5,
   "id": "ba408c90-1c58-4ac0-a56b-bc568b048810",
   "metadata": {
    "execution": {
     "iopub.execute_input": "2025-05-15T21:09:31.889984Z",
     "iopub.status.busy": "2025-05-15T21:09:31.889632Z",
     "iopub.status.idle": "2025-05-15T21:09:31.895161Z",
     "shell.execute_reply": "2025-05-15T21:09:31.894710Z"
    }
   },
   "outputs": [
    {
     "data": {
      "text/html": [
       "<div>\n",
       "<style scoped>\n",
       "    .dataframe tbody tr th:only-of-type {\n",
       "        vertical-align: middle;\n",
       "    }\n",
       "\n",
       "    .dataframe tbody tr th {\n",
       "        vertical-align: top;\n",
       "    }\n",
       "\n",
       "    .dataframe thead th {\n",
       "        text-align: right;\n",
       "    }\n",
       "</style>\n",
       "<table border=\"1\" class=\"dataframe\">\n",
       "  <thead>\n",
       "    <tr style=\"text-align: right;\">\n",
       "      <th></th>\n",
       "      <th>id</th>\n",
       "      <th>distance</th>\n",
       "      <th>apportionment</th>\n",
       "    </tr>\n",
       "  </thead>\n",
       "  <tbody>\n",
       "    <tr>\n",
       "      <th>0</th>\n",
       "      <td>8</td>\n",
       "      <td>14802.00</td>\n",
       "      <td>0.098916</td>\n",
       "    </tr>\n",
       "    <tr>\n",
       "      <th>1</th>\n",
       "      <td>9</td>\n",
       "      <td>12609.20</td>\n",
       "      <td>0.116118</td>\n",
       "    </tr>\n",
       "    <tr>\n",
       "      <th>2</th>\n",
       "      <td>11</td>\n",
       "      <td>15750.50</td>\n",
       "      <td>0.092959</td>\n",
       "    </tr>\n",
       "    <tr>\n",
       "      <th>3</th>\n",
       "      <td>27</td>\n",
       "      <td>22567.60</td>\n",
       "      <td>0.064878</td>\n",
       "    </tr>\n",
       "    <tr>\n",
       "      <th>4</th>\n",
       "      <td>9741</td>\n",
       "      <td>27565.20</td>\n",
       "      <td>0.053116</td>\n",
       "    </tr>\n",
       "    <tr>\n",
       "      <th>5</th>\n",
       "      <td>10532</td>\n",
       "      <td>33059.50</td>\n",
       "      <td>0.044288</td>\n",
       "    </tr>\n",
       "    <tr>\n",
       "      <th>6</th>\n",
       "      <td>11967</td>\n",
       "      <td>14846.30</td>\n",
       "      <td>0.098621</td>\n",
       "    </tr>\n",
       "    <tr>\n",
       "      <th>7</th>\n",
       "      <td>12515</td>\n",
       "      <td>17042.55</td>\n",
       "      <td>0.085911</td>\n",
       "    </tr>\n",
       "    <tr>\n",
       "      <th>8</th>\n",
       "      <td>12573</td>\n",
       "      <td>11959.50</td>\n",
       "      <td>0.122426</td>\n",
       "    </tr>\n",
       "    <tr>\n",
       "      <th>9</th>\n",
       "      <td>12941</td>\n",
       "      <td>19070.80</td>\n",
       "      <td>0.076774</td>\n",
       "    </tr>\n",
       "    <tr>\n",
       "      <th>10</th>\n",
       "      <td>13925</td>\n",
       "      <td>10028.90</td>\n",
       "      <td>0.145993</td>\n",
       "    </tr>\n",
       "  </tbody>\n",
       "</table>\n",
       "</div>"
      ],
      "text/plain": [
       "       id  distance  apportionment\n",
       "0       8  14802.00       0.098916\n",
       "1       9  12609.20       0.116118\n",
       "2      11  15750.50       0.092959\n",
       "3      27  22567.60       0.064878\n",
       "4    9741  27565.20       0.053116\n",
       "5   10532  33059.50       0.044288\n",
       "6   11967  14846.30       0.098621\n",
       "7   12515  17042.55       0.085911\n",
       "8   12573  11959.50       0.122426\n",
       "9   12941  19070.80       0.076774\n",
       "10  13925  10028.90       0.145993"
      ]
     },
     "execution_count": 5,
     "metadata": {},
     "output_type": "execute_result"
    }
   ],
   "source": [
    "stream_table"
   ]
  },
  {
   "cell_type": "code",
   "execution_count": 6,
   "id": "853cb92d-6873-48a0-a622-64678d024494",
   "metadata": {
    "execution": {
     "iopub.execute_input": "2025-05-15T21:09:31.897259Z",
     "iopub.status.busy": "2025-05-15T21:09:31.896851Z",
     "iopub.status.idle": "2025-05-15T21:09:31.900375Z",
     "shell.execute_reply": "2025-05-15T21:09:31.899914Z"
    }
   },
   "outputs": [
    {
     "data": {
      "text/plain": [
       "1.0000000000000002"
      ]
     },
     "execution_count": 6,
     "metadata": {},
     "output_type": "execute_result"
    }
   ],
   "source": [
    "np.sum(stream_table['apportionment'])"
   ]
  },
  {
   "cell_type": "markdown",
   "id": "479dcb70-36b1-4cab-968e-1e7e785c05ee",
   "metadata": {},
   "source": [
    "make dictionaries from the distances and apportionment values"
   ]
  },
  {
   "cell_type": "code",
   "execution_count": 7,
   "id": "060425be-8fef-4fdb-ada6-f08cfcfd9c98",
   "metadata": {
    "execution": {
     "iopub.execute_input": "2025-05-15T21:09:31.902361Z",
     "iopub.status.busy": "2025-05-15T21:09:31.902062Z",
     "iopub.status.idle": "2025-05-15T21:09:31.904637Z",
     "shell.execute_reply": "2025-05-15T21:09:31.904214Z"
    }
   },
   "outputs": [],
   "source": [
    "distances = dict(zip(stream_table.id.values, stream_table.distance.values))"
   ]
  },
  {
   "cell_type": "code",
   "execution_count": 8,
   "id": "eabbb8d3-9263-4cc6-9195-1c89ce5c8557",
   "metadata": {
    "execution": {
     "iopub.execute_input": "2025-05-15T21:09:31.906252Z",
     "iopub.status.busy": "2025-05-15T21:09:31.906115Z",
     "iopub.status.idle": "2025-05-15T21:09:31.908563Z",
     "shell.execute_reply": "2025-05-15T21:09:31.908186Z"
    }
   },
   "outputs": [],
   "source": [
    "apportion = dict(zip(stream_table.id.values, stream_table.apportionment.values))"
   ]
  },
  {
   "cell_type": "markdown",
   "id": "478737c3-0e68-46a6-976b-eacf47820223",
   "metadata": {},
   "source": [
    "# set aquifer properties and streambed conductances"
   ]
  },
  {
   "cell_type": "code",
   "execution_count": 9,
   "id": "4010787c-a172-4366-92c9-2d56791c7ee0",
   "metadata": {
    "execution": {
     "iopub.execute_input": "2025-05-15T21:09:31.910279Z",
     "iopub.status.busy": "2025-05-15T21:09:31.910147Z",
     "iopub.status.idle": "2025-05-15T21:09:31.913648Z",
     "shell.execute_reply": "2025-05-15T21:09:31.913252Z"
    }
   },
   "outputs": [],
   "source": [
    "stream_table = pd.DataFrame(({'id': 8, 'distance': 14802},\n",
    "                            {'id': 9, 'distance': 12609.2},\n",
    "                            {'id': 11, 'distance': 15750.5},\n",
    "                            {'id': 27, 'distance': 22567.6},\n",
    "                            {'id': 9741, 'distance': 27565.2},\n",
    "                            {'id': 10532, 'distance': 33059.5},\n",
    "                            {'id': 11967, 'distance': 14846.3},\n",
    "                            {'id': 12515, 'distance': 17042.5},\n",
    "                            {'id': 12573, 'distance': 11959.5},\n",
    "                            {'id': 12941, 'distance': 19070.8},\n",
    "                            {'id': 13925, 'distance': 10028.9}))"
   ]
  },
  {
   "cell_type": "code",
   "execution_count": 10,
   "id": "6de231c4-280f-4351-a6c5-d4dc939b9777",
   "metadata": {
    "execution": {
     "iopub.execute_input": "2025-05-15T21:09:31.915314Z",
     "iopub.status.busy": "2025-05-15T21:09:31.915159Z",
     "iopub.status.idle": "2025-05-15T21:09:31.917623Z",
     "shell.execute_reply": "2025-05-15T21:09:31.917242Z"
    }
   },
   "outputs": [],
   "source": [
    "T= 7211.  # ft^2/day\n",
    "S= 0.01\n",
    "Q = 70  # 70 gpm in cubic feet per day\n",
    "well_name = 'demo'\n",
    "pumpdays = int(5. * 365)"
   ]
  },
  {
   "cell_type": "markdown",
   "id": "c9aef4c4-3ab7-4fa2-9f4c-69955c054733",
   "metadata": {},
   "source": [
    "## call a utility to convert Q to a series with appropriate formatting\n",
    "\n",
    "also convert to CFD from GPM"
   ]
  },
  {
   "cell_type": "code",
   "execution_count": 11,
   "id": "00d5ddce-a8e5-4343-b35a-e9fc73c58520",
   "metadata": {
    "execution": {
     "iopub.execute_input": "2025-05-15T21:09:31.919368Z",
     "iopub.status.busy": "2025-05-15T21:09:31.919220Z",
     "iopub.status.idle": "2025-05-15T21:09:31.922028Z",
     "shell.execute_reply": "2025-05-15T21:09:31.921658Z"
    }
   },
   "outputs": [],
   "source": [
    "Q = pycap.Q2ts(pumpdays, 5, Q) * pycap.GPM2CFD"
   ]
  },
  {
   "cell_type": "code",
   "execution_count": 12,
   "id": "0686c301-9569-436e-8e9d-fea657deae7f",
   "metadata": {
    "execution": {
     "iopub.execute_input": "2025-05-15T21:09:31.923954Z",
     "iopub.status.busy": "2025-05-15T21:09:31.923663Z",
     "iopub.status.idle": "2025-05-15T21:09:31.927554Z",
     "shell.execute_reply": "2025-05-15T21:09:31.927085Z"
    }
   },
   "outputs": [
    {
     "data": {
      "text/plain": [
       "1       13475.935829\n",
       "2       13475.935829\n",
       "3       13475.935829\n",
       "4       13475.935829\n",
       "5       13475.935829\n",
       "            ...     \n",
       "1821    13475.935829\n",
       "1822    13475.935829\n",
       "1823    13475.935829\n",
       "1824    13475.935829\n",
       "1825    13475.935829\n",
       "Length: 1825, dtype: float64"
      ]
     },
     "execution_count": 12,
     "metadata": {},
     "output_type": "execute_result"
    }
   ],
   "source": [
    "Q"
   ]
  },
  {
   "cell_type": "code",
   "execution_count": 13,
   "id": "be2435a8-bf30-4ceb-b9f4-8b0f94ac927f",
   "metadata": {
    "execution": {
     "iopub.execute_input": "2025-05-15T21:09:31.929552Z",
     "iopub.status.busy": "2025-05-15T21:09:31.929190Z",
     "iopub.status.idle": "2025-05-15T21:09:31.931779Z",
     "shell.execute_reply": "2025-05-15T21:09:31.931396Z"
    }
   },
   "outputs": [],
   "source": [
    "stream_table['conductance'] = 7.11855  # example uses constant streambed_conductance"
   ]
  },
  {
   "cell_type": "code",
   "execution_count": 14,
   "id": "c4d10dca-be43-4292-b3d5-3705669a7975",
   "metadata": {
    "execution": {
     "iopub.execute_input": "2025-05-15T21:09:31.933405Z",
     "iopub.status.busy": "2025-05-15T21:09:31.933256Z",
     "iopub.status.idle": "2025-05-15T21:09:31.938525Z",
     "shell.execute_reply": "2025-05-15T21:09:31.938053Z"
    }
   },
   "outputs": [
    {
     "data": {
      "text/html": [
       "<div>\n",
       "<style scoped>\n",
       "    .dataframe tbody tr th:only-of-type {\n",
       "        vertical-align: middle;\n",
       "    }\n",
       "\n",
       "    .dataframe tbody tr th {\n",
       "        vertical-align: top;\n",
       "    }\n",
       "\n",
       "    .dataframe thead th {\n",
       "        text-align: right;\n",
       "    }\n",
       "</style>\n",
       "<table border=\"1\" class=\"dataframe\">\n",
       "  <thead>\n",
       "    <tr style=\"text-align: right;\">\n",
       "      <th></th>\n",
       "      <th>id</th>\n",
       "      <th>distance</th>\n",
       "      <th>conductance</th>\n",
       "    </tr>\n",
       "  </thead>\n",
       "  <tbody>\n",
       "    <tr>\n",
       "      <th>0</th>\n",
       "      <td>8</td>\n",
       "      <td>14802.0</td>\n",
       "      <td>7.11855</td>\n",
       "    </tr>\n",
       "    <tr>\n",
       "      <th>1</th>\n",
       "      <td>9</td>\n",
       "      <td>12609.2</td>\n",
       "      <td>7.11855</td>\n",
       "    </tr>\n",
       "    <tr>\n",
       "      <th>2</th>\n",
       "      <td>11</td>\n",
       "      <td>15750.5</td>\n",
       "      <td>7.11855</td>\n",
       "    </tr>\n",
       "    <tr>\n",
       "      <th>3</th>\n",
       "      <td>27</td>\n",
       "      <td>22567.6</td>\n",
       "      <td>7.11855</td>\n",
       "    </tr>\n",
       "    <tr>\n",
       "      <th>4</th>\n",
       "      <td>9741</td>\n",
       "      <td>27565.2</td>\n",
       "      <td>7.11855</td>\n",
       "    </tr>\n",
       "  </tbody>\n",
       "</table>\n",
       "</div>"
      ],
      "text/plain": [
       "     id  distance  conductance\n",
       "0     8   14802.0      7.11855\n",
       "1     9   12609.2      7.11855\n",
       "2    11   15750.5      7.11855\n",
       "3    27   22567.6      7.11855\n",
       "4  9741   27565.2      7.11855"
      ]
     },
     "execution_count": 14,
     "metadata": {},
     "output_type": "execute_result"
    }
   ],
   "source": [
    "stream_table.head()"
   ]
  },
  {
   "cell_type": "code",
   "execution_count": 15,
   "id": "8e925f15-7afe-4a7e-bf52-65aa41149de7",
   "metadata": {
    "execution": {
     "iopub.execute_input": "2025-05-15T21:09:31.940527Z",
     "iopub.status.busy": "2025-05-15T21:09:31.940232Z",
     "iopub.status.idle": "2025-05-15T21:09:31.942631Z",
     "shell.execute_reply": "2025-05-15T21:09:31.942238Z"
    }
   },
   "outputs": [],
   "source": [
    "cond = dict(zip(stream_table.id.values, stream_table.conductance.values))"
   ]
  },
  {
   "cell_type": "code",
   "execution_count": 16,
   "id": "8ba31012-76ab-4c1e-9e16-be545dce05b2",
   "metadata": {
    "execution": {
     "iopub.execute_input": "2025-05-15T21:09:31.944263Z",
     "iopub.status.busy": "2025-05-15T21:09:31.944119Z",
     "iopub.status.idle": "2025-05-15T21:09:31.946907Z",
     "shell.execute_reply": "2025-05-15T21:09:31.946511Z"
    }
   },
   "outputs": [],
   "source": [
    "test_well = pycap.Well(T=T,\n",
    "                 S=S,\n",
    "                 Q=Q,\n",
    "                 depletion_years=5,\n",
    "                 depl_method='hunt99',\n",
    "                 drawdown_dist={'test0':50.},\n",
    "                 streambed_conductance=cond,\n",
    "                 stream_dist=distances,\n",
    "                 stream_apportionment=apportion)"
   ]
  },
  {
   "cell_type": "code",
   "execution_count": 17,
   "id": "84ad8495-19bd-4b22-a67e-b3440c0af154",
   "metadata": {
    "execution": {
     "iopub.execute_input": "2025-05-15T21:09:31.948530Z",
     "iopub.status.busy": "2025-05-15T21:09:31.948386Z",
     "iopub.status.idle": "2025-05-15T21:09:31.953196Z",
     "shell.execute_reply": "2025-05-15T21:09:31.952812Z"
    }
   },
   "outputs": [
    {
     "name": "stderr",
     "output_type": "stream",
     "text": [
      "/home/runner/work/pycap-dss/pycap-dss/source/examples/../../pycap/solutions.py:66: RuntimeWarning: divide by zero encountered in divide\n",
      "  u = dist**2.0 * S / (4.0 * T * time)\n"
     ]
    },
    {
     "data": {
      "text/plain": [
       "{'test0': array([0.        , 0.96284254, 1.06585921, ..., 2.07921679, 2.07929839,\n",
       "        2.07937994])}"
      ]
     },
     "execution_count": 17,
     "metadata": {},
     "output_type": "execute_result"
    }
   ],
   "source": [
    "test_well.drawdown"
   ]
  },
  {
   "cell_type": "code",
   "execution_count": 18,
   "id": "3d13cdfa-02b2-4605-a916-f26398696292",
   "metadata": {
    "execution": {
     "iopub.execute_input": "2025-05-15T21:09:31.954887Z",
     "iopub.status.busy": "2025-05-15T21:09:31.954740Z",
     "iopub.status.idle": "2025-05-15T21:09:31.958809Z",
     "shell.execute_reply": "2025-05-15T21:09:31.958410Z"
    }
   },
   "outputs": [
    {
     "data": {
      "text/plain": [
       "1    13475.935829\n",
       "dtype: float64"
      ]
     },
     "execution_count": 18,
     "metadata": {},
     "output_type": "execute_result"
    }
   ],
   "source": [
    "deltaQ = pycap._calc_deltaQ(Q)\n",
    "deltaQ"
   ]
  },
  {
   "cell_type": "code",
   "execution_count": 19,
   "id": "06bbd502-45ad-490b-ac65-d8d2989363d8",
   "metadata": {
    "execution": {
     "iopub.execute_input": "2025-05-15T21:09:31.960465Z",
     "iopub.status.busy": "2025-05-15T21:09:31.960312Z",
     "iopub.status.idle": "2025-05-15T21:09:31.971212Z",
     "shell.execute_reply": "2025-05-15T21:09:31.970816Z"
    }
   },
   "outputs": [
    {
     "name": "stderr",
     "output_type": "stream",
     "text": [
      "/home/runner/work/pycap-dss/pycap-dss/source/examples/../../pycap/solutions.py:561: RuntimeWarning: divide by zero encountered in divide\n",
      "  a = np.sqrt(S * dist**2 / (4.0 * T * time))\n"
     ]
    },
    {
     "data": {
      "text/plain": [
       "{8: array([0.00000000e+00, 3.98636452e-33, 3.31204669e-16, ...,\n",
       "        9.90280807e+02, 9.90371342e+02, 9.90461805e+02]),\n",
       " 9: array([0.00000000e+00, 7.13367383e-24, 1.74727419e-11, ...,\n",
       "        1.21340842e+03, 1.21350207e+03, 1.21359564e+03]),\n",
       " 11: array([0.00000000e+00, 1.44038609e-37, 1.82588316e-18, ...,\n",
       "        9.13187370e+02, 9.13276691e+02, 9.13365942e+02]),\n",
       " 27: array([0.00000000e+00, 2.33569680e-77, 1.39682712e-38, ...,\n",
       "        5.52264289e+02, 5.52345936e+02, 5.52427521e+02]),\n",
       " 9741: array([0.00000000e+000, 2.44245084e-115, 1.07059588e-057, ...,\n",
       "        4.03755855e+002, 4.03832253e+002, 4.03908595e+002]),\n",
       " 10532: array([0.00000000e+000, 1.00292409e-165, 5.26758880e-083, ...,\n",
       "        2.94853678e+002, 2.94924279e+002, 2.94994832e+002]),\n",
       " 11967: array([0.00000000e+00, 2.50629102e-33, 2.61529655e-16, ...,\n",
       "        9.86458285e+02, 9.86548762e+02, 9.86639167e+02]),\n",
       " 12515: array([0.00000000e+00, 4.77131258e-44, 9.40917849e-22, ...,\n",
       "        8.22143476e+02, 8.22231229e+02, 8.22318914e+02]),\n",
       " 12573: array([0.00000000e+00, 2.10485259e-21, 3.22528609e-10, ...,\n",
       "        1.29536178e+03, 1.29545646e+03, 1.29555107e+03]),\n",
       " 12941: array([0.00000000e+00, 3.21102915e-55, 2.08239385e-27, ...,\n",
       "        7.04476694e+02, 7.04562126e+02, 7.04647491e+02]),\n",
       " 13925: array([0.00000000e+00, 8.60822413e-15, 8.25718576e-07, ...,\n",
       "        1.60192335e+03, 1.60202161e+03, 1.60211978e+03])}"
      ]
     },
     "execution_count": 19,
     "metadata": {},
     "output_type": "execute_result"
    }
   ],
   "source": [
    "test_well.depletion"
   ]
  },
  {
   "cell_type": "code",
   "execution_count": 20,
   "id": "45c8ee4e-0a96-4812-8503-0fab8a99b54f",
   "metadata": {
    "execution": {
     "iopub.execute_input": "2025-05-15T21:09:31.972843Z",
     "iopub.status.busy": "2025-05-15T21:09:31.972710Z",
     "iopub.status.idle": "2025-05-15T21:09:31.980782Z",
     "shell.execute_reply": "2025-05-15T21:09:31.980400Z"
    }
   },
   "outputs": [],
   "source": [
    "stream_depl = pd.DataFrame(test_well.depletion)"
   ]
  },
  {
   "cell_type": "markdown",
   "id": "ef9d8276-f8e6-4a99-b08b-8c4766feb941",
   "metadata": {},
   "source": [
    "## need to convert to GPM to compare results to Table 2"
   ]
  },
  {
   "cell_type": "code",
   "execution_count": 21,
   "id": "79602e05-ab9d-46b8-88be-7feaf90eb98f",
   "metadata": {
    "execution": {
     "iopub.execute_input": "2025-05-15T21:09:31.982511Z",
     "iopub.status.busy": "2025-05-15T21:09:31.982381Z",
     "iopub.status.idle": "2025-05-15T21:09:31.993768Z",
     "shell.execute_reply": "2025-05-15T21:09:31.993362Z"
    }
   },
   "outputs": [
    {
     "data": {
      "text/html": [
       "<div>\n",
       "<style scoped>\n",
       "    .dataframe tbody tr th:only-of-type {\n",
       "        vertical-align: middle;\n",
       "    }\n",
       "\n",
       "    .dataframe tbody tr th {\n",
       "        vertical-align: top;\n",
       "    }\n",
       "\n",
       "    .dataframe thead th {\n",
       "        text-align: right;\n",
       "    }\n",
       "</style>\n",
       "<table border=\"1\" class=\"dataframe\">\n",
       "  <thead>\n",
       "    <tr style=\"text-align: right;\">\n",
       "      <th></th>\n",
       "      <th>8</th>\n",
       "      <th>9</th>\n",
       "      <th>11</th>\n",
       "      <th>27</th>\n",
       "      <th>9741</th>\n",
       "      <th>10532</th>\n",
       "      <th>11967</th>\n",
       "      <th>12515</th>\n",
       "      <th>12573</th>\n",
       "      <th>12941</th>\n",
       "      <th>13925</th>\n",
       "    </tr>\n",
       "  </thead>\n",
       "  <tbody>\n",
       "    <tr>\n",
       "      <th>0</th>\n",
       "      <td>0.000000e+00</td>\n",
       "      <td>0.000000e+00</td>\n",
       "      <td>0.000000e+00</td>\n",
       "      <td>0.000000e+00</td>\n",
       "      <td>0.000000e+00</td>\n",
       "      <td>0.000000e+00</td>\n",
       "      <td>0.000000e+00</td>\n",
       "      <td>0.000000e+00</td>\n",
       "      <td>0.000000e+00</td>\n",
       "      <td>0.000000e+00</td>\n",
       "      <td>0.000000e+00</td>\n",
       "    </tr>\n",
       "    <tr>\n",
       "      <th>1</th>\n",
       "      <td>2.070695e-35</td>\n",
       "      <td>3.705547e-26</td>\n",
       "      <td>7.482006e-40</td>\n",
       "      <td>1.213265e-79</td>\n",
       "      <td>1.268718e-117</td>\n",
       "      <td>5.209633e-168</td>\n",
       "      <td>1.301879e-35</td>\n",
       "      <td>2.478432e-46</td>\n",
       "      <td>1.093354e-23</td>\n",
       "      <td>1.667951e-57</td>\n",
       "      <td>4.471494e-17</td>\n",
       "    </tr>\n",
       "    <tr>\n",
       "      <th>2</th>\n",
       "      <td>1.720424e-18</td>\n",
       "      <td>9.076119e-14</td>\n",
       "      <td>9.484449e-21</td>\n",
       "      <td>7.255741e-41</td>\n",
       "      <td>5.561151e-60</td>\n",
       "      <td>2.736220e-85</td>\n",
       "      <td>1.358501e-18</td>\n",
       "      <td>4.887545e-24</td>\n",
       "      <td>1.675357e-12</td>\n",
       "      <td>1.081688e-29</td>\n",
       "      <td>4.289149e-09</td>\n",
       "    </tr>\n",
       "    <tr>\n",
       "      <th>3</th>\n",
       "      <td>9.397226e-13</td>\n",
       "      <td>1.521286e-09</td>\n",
       "      <td>2.774686e-14</td>\n",
       "      <td>7.755022e-28</td>\n",
       "      <td>1.159869e-40</td>\n",
       "      <td>1.310323e-57</td>\n",
       "      <td>8.006897e-13</td>\n",
       "      <td>1.661375e-16</td>\n",
       "      <td>1.112081e-08</td>\n",
       "      <td>2.547071e-20</td>\n",
       "      <td>2.414180e-06</td>\n",
       "    </tr>\n",
       "    <tr>\n",
       "      <th>4</th>\n",
       "      <td>7.690155e-10</td>\n",
       "      <td>2.171820e-07</td>\n",
       "      <td>5.262710e-11</td>\n",
       "      <td>2.831779e-21</td>\n",
       "      <td>5.934766e-31</td>\n",
       "      <td>1.018311e-43</td>\n",
       "      <td>6.806930e-10</td>\n",
       "      <td>1.076022e-12</td>\n",
       "      <td>9.976385e-07</td>\n",
       "      <td>1.376230e-15</td>\n",
       "      <td>6.273796e-05</td>\n",
       "    </tr>\n",
       "    <tr>\n",
       "      <th>...</th>\n",
       "      <td>...</td>\n",
       "      <td>...</td>\n",
       "      <td>...</td>\n",
       "      <td>...</td>\n",
       "      <td>...</td>\n",
       "      <td>...</td>\n",
       "      <td>...</td>\n",
       "      <td>...</td>\n",
       "      <td>...</td>\n",
       "      <td>...</td>\n",
       "      <td>...</td>\n",
       "    </tr>\n",
       "    <tr>\n",
       "      <th>1820</th>\n",
       "      <td>5.143017e+00</td>\n",
       "      <td>6.302009e+00</td>\n",
       "      <td>4.742572e+00</td>\n",
       "      <td>2.867857e+00</td>\n",
       "      <td>2.096493e+00</td>\n",
       "      <td>1.530867e+00</td>\n",
       "      <td>5.123162e+00</td>\n",
       "      <td>4.269666e+00</td>\n",
       "      <td>6.727700e+00</td>\n",
       "      <td>3.658476e+00</td>\n",
       "      <td>8.320080e+00</td>\n",
       "    </tr>\n",
       "    <tr>\n",
       "      <th>1821</th>\n",
       "      <td>5.143488e+00</td>\n",
       "      <td>6.302496e+00</td>\n",
       "      <td>4.743037e+00</td>\n",
       "      <td>2.868282e+00</td>\n",
       "      <td>2.096890e+00</td>\n",
       "      <td>1.531234e+00</td>\n",
       "      <td>5.123632e+00</td>\n",
       "      <td>4.270122e+00</td>\n",
       "      <td>6.728193e+00</td>\n",
       "      <td>3.658921e+00</td>\n",
       "      <td>8.320591e+00</td>\n",
       "    </tr>\n",
       "    <tr>\n",
       "      <th>1822</th>\n",
       "      <td>5.143959e+00</td>\n",
       "      <td>6.302983e+00</td>\n",
       "      <td>4.743501e+00</td>\n",
       "      <td>2.868706e+00</td>\n",
       "      <td>2.097287e+00</td>\n",
       "      <td>1.531601e+00</td>\n",
       "      <td>5.124103e+00</td>\n",
       "      <td>4.270579e+00</td>\n",
       "      <td>6.728685e+00</td>\n",
       "      <td>3.659365e+00</td>\n",
       "      <td>8.321102e+00</td>\n",
       "    </tr>\n",
       "    <tr>\n",
       "      <th>1823</th>\n",
       "      <td>5.144429e+00</td>\n",
       "      <td>6.303469e+00</td>\n",
       "      <td>4.743965e+00</td>\n",
       "      <td>2.869130e+00</td>\n",
       "      <td>2.097684e+00</td>\n",
       "      <td>1.531968e+00</td>\n",
       "      <td>5.124573e+00</td>\n",
       "      <td>4.271034e+00</td>\n",
       "      <td>6.729177e+00</td>\n",
       "      <td>3.659809e+00</td>\n",
       "      <td>8.321612e+00</td>\n",
       "    </tr>\n",
       "    <tr>\n",
       "      <th>1824</th>\n",
       "      <td>5.144899e+00</td>\n",
       "      <td>6.303955e+00</td>\n",
       "      <td>4.744429e+00</td>\n",
       "      <td>2.869554e+00</td>\n",
       "      <td>2.098081e+00</td>\n",
       "      <td>1.532334e+00</td>\n",
       "      <td>5.125042e+00</td>\n",
       "      <td>4.271490e+00</td>\n",
       "      <td>6.729668e+00</td>\n",
       "      <td>3.660252e+00</td>\n",
       "      <td>8.322122e+00</td>\n",
       "    </tr>\n",
       "  </tbody>\n",
       "</table>\n",
       "<p>1825 rows × 11 columns</p>\n",
       "</div>"
      ],
      "text/plain": [
       "             8             9             11            27             9741   \\\n",
       "0     0.000000e+00  0.000000e+00  0.000000e+00  0.000000e+00   0.000000e+00   \n",
       "1     2.070695e-35  3.705547e-26  7.482006e-40  1.213265e-79  1.268718e-117   \n",
       "2     1.720424e-18  9.076119e-14  9.484449e-21  7.255741e-41   5.561151e-60   \n",
       "3     9.397226e-13  1.521286e-09  2.774686e-14  7.755022e-28   1.159869e-40   \n",
       "4     7.690155e-10  2.171820e-07  5.262710e-11  2.831779e-21   5.934766e-31   \n",
       "...            ...           ...           ...           ...            ...   \n",
       "1820  5.143017e+00  6.302009e+00  4.742572e+00  2.867857e+00   2.096493e+00   \n",
       "1821  5.143488e+00  6.302496e+00  4.743037e+00  2.868282e+00   2.096890e+00   \n",
       "1822  5.143959e+00  6.302983e+00  4.743501e+00  2.868706e+00   2.097287e+00   \n",
       "1823  5.144429e+00  6.303469e+00  4.743965e+00  2.869130e+00   2.097684e+00   \n",
       "1824  5.144899e+00  6.303955e+00  4.744429e+00  2.869554e+00   2.098081e+00   \n",
       "\n",
       "              10532         11967         12515         12573         12941  \\\n",
       "0      0.000000e+00  0.000000e+00  0.000000e+00  0.000000e+00  0.000000e+00   \n",
       "1     5.209633e-168  1.301879e-35  2.478432e-46  1.093354e-23  1.667951e-57   \n",
       "2      2.736220e-85  1.358501e-18  4.887545e-24  1.675357e-12  1.081688e-29   \n",
       "3      1.310323e-57  8.006897e-13  1.661375e-16  1.112081e-08  2.547071e-20   \n",
       "4      1.018311e-43  6.806930e-10  1.076022e-12  9.976385e-07  1.376230e-15   \n",
       "...             ...           ...           ...           ...           ...   \n",
       "1820   1.530867e+00  5.123162e+00  4.269666e+00  6.727700e+00  3.658476e+00   \n",
       "1821   1.531234e+00  5.123632e+00  4.270122e+00  6.728193e+00  3.658921e+00   \n",
       "1822   1.531601e+00  5.124103e+00  4.270579e+00  6.728685e+00  3.659365e+00   \n",
       "1823   1.531968e+00  5.124573e+00  4.271034e+00  6.729177e+00  3.659809e+00   \n",
       "1824   1.532334e+00  5.125042e+00  4.271490e+00  6.729668e+00  3.660252e+00   \n",
       "\n",
       "             13925  \n",
       "0     0.000000e+00  \n",
       "1     4.471494e-17  \n",
       "2     4.289149e-09  \n",
       "3     2.414180e-06  \n",
       "4     6.273796e-05  \n",
       "...            ...  \n",
       "1820  8.320080e+00  \n",
       "1821  8.320591e+00  \n",
       "1822  8.321102e+00  \n",
       "1823  8.321612e+00  \n",
       "1824  8.322122e+00  \n",
       "\n",
       "[1825 rows x 11 columns]"
      ]
     },
     "execution_count": 21,
     "metadata": {},
     "output_type": "execute_result"
    }
   ],
   "source": [
    "stream_depl = stream_depl/pycap.GPM2CFD\n",
    "stream_depl"
   ]
  },
  {
   "cell_type": "code",
   "execution_count": 22,
   "id": "7ad4a0b3-be39-4a3f-81f0-83701421be75",
   "metadata": {
    "execution": {
     "iopub.execute_input": "2025-05-15T21:09:31.995419Z",
     "iopub.status.busy": "2025-05-15T21:09:31.995287Z",
     "iopub.status.idle": "2025-05-15T21:09:31.997814Z",
     "shell.execute_reply": "2025-05-15T21:09:31.997411Z"
    }
   },
   "outputs": [],
   "source": [
    "five_year= pd.DataFrame(stream_depl.loc[1824].T)"
   ]
  },
  {
   "cell_type": "code",
   "execution_count": 23,
   "id": "fd435288-e684-4b97-874d-336b682df562",
   "metadata": {
    "execution": {
     "iopub.execute_input": "2025-05-15T21:09:31.999764Z",
     "iopub.status.busy": "2025-05-15T21:09:31.999415Z",
     "iopub.status.idle": "2025-05-15T21:09:32.002334Z",
     "shell.execute_reply": "2025-05-15T21:09:32.001951Z"
    }
   },
   "outputs": [],
   "source": [
    "five_year.rename(columns={1824: 'Depletion'}, inplace=True)"
   ]
  },
  {
   "cell_type": "code",
   "execution_count": 24,
   "id": "293efd67-3acc-47f4-be9a-c4e0de0d74db",
   "metadata": {
    "execution": {
     "iopub.execute_input": "2025-05-15T21:09:32.003979Z",
     "iopub.status.busy": "2025-05-15T21:09:32.003847Z",
     "iopub.status.idle": "2025-05-15T21:09:32.008174Z",
     "shell.execute_reply": "2025-05-15T21:09:32.007685Z"
    }
   },
   "outputs": [
    {
     "data": {
      "text/html": [
       "<div>\n",
       "<style scoped>\n",
       "    .dataframe tbody tr th:only-of-type {\n",
       "        vertical-align: middle;\n",
       "    }\n",
       "\n",
       "    .dataframe tbody tr th {\n",
       "        vertical-align: top;\n",
       "    }\n",
       "\n",
       "    .dataframe thead th {\n",
       "        text-align: right;\n",
       "    }\n",
       "</style>\n",
       "<table border=\"1\" class=\"dataframe\">\n",
       "  <thead>\n",
       "    <tr style=\"text-align: right;\">\n",
       "      <th></th>\n",
       "      <th>Depletion</th>\n",
       "    </tr>\n",
       "  </thead>\n",
       "  <tbody>\n",
       "    <tr>\n",
       "      <th>8</th>\n",
       "      <td>5.14</td>\n",
       "    </tr>\n",
       "    <tr>\n",
       "      <th>9</th>\n",
       "      <td>6.30</td>\n",
       "    </tr>\n",
       "    <tr>\n",
       "      <th>11</th>\n",
       "      <td>4.74</td>\n",
       "    </tr>\n",
       "    <tr>\n",
       "      <th>27</th>\n",
       "      <td>2.87</td>\n",
       "    </tr>\n",
       "    <tr>\n",
       "      <th>9741</th>\n",
       "      <td>2.10</td>\n",
       "    </tr>\n",
       "    <tr>\n",
       "      <th>10532</th>\n",
       "      <td>1.53</td>\n",
       "    </tr>\n",
       "    <tr>\n",
       "      <th>11967</th>\n",
       "      <td>5.13</td>\n",
       "    </tr>\n",
       "    <tr>\n",
       "      <th>12515</th>\n",
       "      <td>4.27</td>\n",
       "    </tr>\n",
       "    <tr>\n",
       "      <th>12573</th>\n",
       "      <td>6.73</td>\n",
       "    </tr>\n",
       "    <tr>\n",
       "      <th>12941</th>\n",
       "      <td>3.66</td>\n",
       "    </tr>\n",
       "    <tr>\n",
       "      <th>13925</th>\n",
       "      <td>8.32</td>\n",
       "    </tr>\n",
       "  </tbody>\n",
       "</table>\n",
       "</div>"
      ],
      "text/plain": [
       "       Depletion\n",
       "8           5.14\n",
       "9           6.30\n",
       "11          4.74\n",
       "27          2.87\n",
       "9741        2.10\n",
       "10532       1.53\n",
       "11967       5.13\n",
       "12515       4.27\n",
       "12573       6.73\n",
       "12941       3.66\n",
       "13925       8.32"
      ]
     },
     "execution_count": 24,
     "metadata": {},
     "output_type": "execute_result"
    }
   ],
   "source": [
    "pd.options.display.float_format = '{:,.2f}'.format\n",
    "five_year"
   ]
  },
  {
   "cell_type": "markdown",
   "id": "5a56842b-a1b5-4311-82c3-4aa14edffa3d",
   "metadata": {},
   "source": [
    "# Matches Table 2"
   ]
  },
  {
   "cell_type": "code",
   "execution_count": null,
   "id": "06d7dbb5-41c9-4f14-a2a9-2d0535276d46",
   "metadata": {},
   "outputs": [],
   "source": []
  },
  {
   "cell_type": "code",
   "execution_count": null,
   "id": "42bdf026-21c5-4194-ac20-ea78afe218bb",
   "metadata": {},
   "outputs": [],
   "source": []
  }
 ],
 "metadata": {
  "kernelspec": {
   "display_name": "Python 3 (ipykernel)",
   "language": "python",
   "name": "python3"
  },
  "language_info": {
   "codemirror_mode": {
    "name": "ipython",
    "version": 3
   },
   "file_extension": ".py",
   "mimetype": "text/x-python",
   "name": "python",
   "nbconvert_exporter": "python",
   "pygments_lexer": "ipython3",
   "version": "3.11.0"
  }
 },
 "nbformat": 4,
 "nbformat_minor": 5
}
